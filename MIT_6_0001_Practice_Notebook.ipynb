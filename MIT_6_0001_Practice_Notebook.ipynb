{
  "nbformat": 4,
  "nbformat_minor": 0,
  "metadata": {
    "colab": {
      "name": "MIT-6.0001: Practice Notebook",
      "provenance": [],
      "authorship_tag": "ABX9TyMAUmHNQS/EFnPq5QtpM0O6",
      "include_colab_link": true
    },
    "kernelspec": {
      "name": "python3",
      "display_name": "Python 3"
    },
    "language_info": {
      "name": "python"
    }
  },
  "cells": [
    {
      "cell_type": "markdown",
      "metadata": {
        "id": "view-in-github",
        "colab_type": "text"
      },
      "source": [
        "<a href=\"https://colab.research.google.com/github/Pranitha26/MIT-6.0001/blob/main/MIT_6_0001_Practice_Notebook.ipynb\" target=\"_parent\"><img src=\"https://colab.research.google.com/assets/colab-badge.svg\" alt=\"Open In Colab\"/></a>"
      ]
    },
    {
      "cell_type": "code",
      "metadata": {
        "colab": {
          "base_uri": "https://localhost:8080/"
        },
        "id": "tsd3sGBOcW_f",
        "outputId": "5f9f72d8-a997-4ad1-a1fa-58011be651c8"
      },
      "source": [
        "print(\"Pranitha\")"
      ],
      "execution_count": null,
      "outputs": [
        {
          "output_type": "stream",
          "text": [
            "Pranitha\n"
          ],
          "name": "stdout"
        }
      ]
    },
    {
      "cell_type": "code",
      "metadata": {
        "colab": {
          "base_uri": "https://localhost:8080/"
        },
        "id": "DawjAtHqcdq8",
        "outputId": "f594365d-8787-4dc4-e7fa-2eca83147572"
      },
      "source": [
        "2+4"
      ],
      "execution_count": null,
      "outputs": [
        {
          "output_type": "execute_result",
          "data": {
            "text/plain": [
              "6"
            ]
          },
          "metadata": {
            "tags": []
          },
          "execution_count": 2
        }
      ]
    },
    {
      "cell_type": "code",
      "metadata": {
        "colab": {
          "base_uri": "https://localhost:8080/"
        },
        "id": "RyPvIC-YBBKU",
        "outputId": "885e5402-f62a-41eb-ee32-8918dc0be1b9"
      },
      "source": [
        "print(3+2)"
      ],
      "execution_count": null,
      "outputs": [
        {
          "output_type": "stream",
          "text": [
            "5\n"
          ],
          "name": "stdout"
        }
      ]
    },
    {
      "cell_type": "code",
      "metadata": {
        "colab": {
          "base_uri": "https://localhost:8080/"
        },
        "id": "NoCxYGYykMmT",
        "outputId": "751654ac-1de6-4172-9701-05301ff34eae"
      },
      "source": [
        "print(3.0+2)"
      ],
      "execution_count": 2,
      "outputs": [
        {
          "output_type": "stream",
          "text": [
            "5.0\n"
          ],
          "name": "stdout"
        }
      ]
    },
    {
      "cell_type": "code",
      "metadata": {
        "colab": {
          "base_uri": "https://localhost:8080/"
        },
        "id": "w9f7nDbPpv06",
        "outputId": "5be57117-87d8-4c79-ad6f-58445921186e"
      },
      "source": [
        "8%4"
      ],
      "execution_count": 4,
      "outputs": [
        {
          "output_type": "execute_result",
          "data": {
            "text/plain": [
              "0"
            ]
          },
          "metadata": {
            "tags": []
          },
          "execution_count": 4
        }
      ]
    },
    {
      "cell_type": "code",
      "metadata": {
        "colab": {
          "base_uri": "https://localhost:8080/"
        },
        "id": "LmTFfEeVp4bn",
        "outputId": "1eca829c-45f6-4d22-fc9e-36719ad55762"
      },
      "source": [
        "8**4"
      ],
      "execution_count": 7,
      "outputs": [
        {
          "output_type": "execute_result",
          "data": {
            "text/plain": [
              "4096"
            ]
          },
          "metadata": {
            "tags": []
          },
          "execution_count": 7
        }
      ]
    },
    {
      "cell_type": "code",
      "metadata": {
        "colab": {
          "base_uri": "https://localhost:8080/"
        },
        "id": "f2hwdK5op-SU",
        "outputId": "c5ddc308-6ced-4ea1-e3f3-07c2727550e7"
      },
      "source": [
        "pi = 3.14159\n",
        "pi_approx = 22/7\n",
        "print(pi_approx)"
      ],
      "execution_count": 13,
      "outputs": [
        {
          "output_type": "stream",
          "text": [
            "3.142857142857143\n"
          ],
          "name": "stdout"
        }
      ]
    },
    {
      "cell_type": "code",
      "metadata": {
        "colab": {
          "base_uri": "https://localhost:8080/"
        },
        "id": "8kLJRehRqdH1",
        "outputId": "34b15cf5-e0ff-41b1-a406-3d935feb25c6"
      },
      "source": [
        "usa_gold = 46\n",
        "uk_gold = 27\n",
        "romania_gold = 1\n",
        "\n",
        "total_gold = (usa_gold + uk_gold + romania_gold)\n",
        "print(total_gold)\n",
        "\n",
        "romania_gold += 1\n",
        "print(total_gold)"
      ],
      "execution_count": 4,
      "outputs": [
        {
          "output_type": "stream",
          "text": [
            "74\n",
            "74\n"
          ],
          "name": "stdout"
        }
      ]
    },
    {
      "cell_type": "code",
      "metadata": {
        "colab": {
          "base_uri": "https://localhost:8080/"
        },
        "id": "fYHDFIIxLUDF",
        "outputId": "a568055a-963d-44a7-bbfc-d92ad788e9d1"
      },
      "source": [
        "i =  7\n",
        "j = 8\n",
        "print(i==j)\n",
        "i != j"
      ],
      "execution_count": 2,
      "outputs": [
        {
          "output_type": "stream",
          "text": [
            "False\n"
          ],
          "name": "stdout"
        },
        {
          "output_type": "execute_result",
          "data": {
            "text/plain": [
              "True"
            ]
          },
          "metadata": {
            "tags": []
          },
          "execution_count": 2
        }
      ]
    },
    {
      "cell_type": "code",
      "metadata": {
        "colab": {
          "base_uri": "https://localhost:8080/"
        },
        "id": "UUXeQEIbR6iS",
        "outputId": "85d3fcf7-bbbf-449f-c01c-c9c182713c59"
      },
      "source": [
        "a = \"Hello\"\n",
        "b = \"World\"\n",
        "\n",
        "a < b"
      ],
      "execution_count": 4,
      "outputs": [
        {
          "output_type": "execute_result",
          "data": {
            "text/plain": [
              "True"
            ]
          },
          "metadata": {
            "tags": []
          },
          "execution_count": 4
        }
      ]
    },
    {
      "cell_type": "code",
      "metadata": {
        "colab": {
          "base_uri": "https://localhost:8080/"
        },
        "id": "FQka8TTgN3hF",
        "outputId": "a346b0d9-3bdd-4711-9fa6-fafb0f03152d"
      },
      "source": [
        "pset_time = 15\n",
        "sleep_time = 8\n",
        "print(sleep_time > pset_time)\n",
        "derive = True\n",
        "drink = False\n",
        "both = (derive and drink)\n",
        "print(both)"
      ],
      "execution_count": 3,
      "outputs": [
        {
          "output_type": "stream",
          "text": [
            "False\n",
            "False\n"
          ],
          "name": "stdout"
        }
      ]
    }
  ]
}